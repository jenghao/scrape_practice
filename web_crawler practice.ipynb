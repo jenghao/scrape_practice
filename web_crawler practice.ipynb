{
 "cells": [
  {
   "cell_type": "code",
   "execution_count": 1,
   "id": "3899a0e4",
   "metadata": {
    "ExecuteTime": {
     "end_time": "2022-12-16T05:04:52.808619Z",
     "start_time": "2022-12-16T05:04:52.241470Z"
    }
   },
   "outputs": [],
   "source": [
    "from selenium import webdriver\n",
    "from selenium.webdriver.common.by import By\n",
    "from bs4 import BeautifulSoup\n",
    "import time\n",
    "import pandas as pd\n",
    "import warnings\n",
    "warnings.filterwarnings(\"ignore\")"
   ]
  },
  {
   "cell_type": "code",
   "execution_count": 2,
   "id": "12a4d298",
   "metadata": {
    "ExecuteTime": {
     "end_time": "2022-12-16T05:05:01.589263Z",
     "start_time": "2022-12-16T05:04:54.518877Z"
    }
   },
   "outputs": [
    {
     "name": "stdout",
     "output_type": "stream",
     "text": [
      "Enter the job name: data scientist\n"
     ]
    }
   ],
   "source": [
    "job_name = input(\"Enter the job name: \")"
   ]
  },
  {
   "cell_type": "code",
   "execution_count": 3,
   "id": "cf95f98b",
   "metadata": {
    "ExecuteTime": {
     "end_time": "2022-12-16T05:05:08.698965Z",
     "start_time": "2022-12-16T05:05:03.827091Z"
    }
   },
   "outputs": [
    {
     "name": "stdout",
     "output_type": "stream",
     "text": [
      "Enter the job location: United States\n"
     ]
    }
   ],
   "source": [
    "country_name =input(\"Enter the job location: \")"
   ]
  },
  {
   "cell_type": "code",
   "execution_count": 4,
   "id": "f50fba95",
   "metadata": {
    "ExecuteTime": {
     "end_time": "2022-12-16T05:05:10.990747Z",
     "start_time": "2022-12-16T05:05:10.963051Z"
    }
   },
   "outputs": [],
   "source": [
    "job_url =\"\";\n",
    "for item in job_name.split(\" \"):\n",
    "    if item != job_name.split(\" \")[-1]:\n",
    "        job_url = job_url + item + \"%20\"\n",
    "    else:\n",
    "        job_url = job_url + item\n",
    "\n",
    "country_url =\"\";\n",
    "for item in country_name.split(\" \"):\n",
    "    if item != country_name.split(\" \")[-1]:\n",
    "        country_url = country_url + item + \"%20\"\n",
    "    else:\n",
    "        country_url = country_url + item\n",
    "\n",
    "url = \"https://www.linkedin.com/jobs/search/?alertAction=viewjobs&currentJobId=3393256907&f_JT=F&f_TPR=a1622519353-&geoId=103644278&keywords=data%20scientist&location=United%20States&refresh=true&searchAlertRefId=29257e25-c4df-46ed-9987-cb385a640e31\""
   ]
  },
  {
   "cell_type": "code",
   "execution_count": 5,
   "id": "bf227999",
   "metadata": {
    "ExecuteTime": {
     "end_time": "2022-12-16T05:05:22.696700Z",
     "start_time": "2022-12-16T05:05:20.094485Z"
    }
   },
   "outputs": [],
   "source": [
    "# Creating a webdriver instance\n",
    "driver = webdriver.Chrome(\"ChromeDriver_Path/chromedriver\")\n",
    "# Opening the url we have just defined in our browser\n",
    "driver.get(url)"
   ]
  },
  {
   "cell_type": "code",
   "execution_count": 6,
   "id": "adf27114",
   "metadata": {
    "ExecuteTime": {
     "end_time": "2022-12-16T05:05:34.602887Z",
     "start_time": "2022-12-16T05:05:34.564727Z"
    }
   },
   "outputs": [
    {
     "name": "stdout",
     "output_type": "stream",
     "text": [
      "258000\n"
     ]
    }
   ],
   "source": [
    "#We find how many jobs are offered.\n",
    "jobs_num = driver.find_element(By.CSS_SELECTOR,\"h1>span\").get_attribute(\"innerText\")\n",
    "if len(jobs_num.split(',')) > 1:\n",
    "    jobs_num = int(jobs_num.split(',')[0])*1000\n",
    "else:\n",
    "    jobs_num = int(jobs_num)\n",
    "\n",
    "jobs_num = int(jobs_num)\n",
    "print(jobs_num)"
   ]
  },
  {
   "cell_type": "code",
   "execution_count": 8,
   "id": "f7014209",
   "metadata": {
    "ExecuteTime": {
     "end_time": "2022-12-16T05:05:54.329512Z",
     "start_time": "2022-12-16T05:05:49.969233Z"
    }
   },
   "outputs": [
    {
     "name": "stdout",
     "output_type": "stream",
     "text": [
      "Enter the numbers of jobs needed: 100\n"
     ]
    }
   ],
   "source": [
    "numbers = input(\"Enter the numbers of jobs needed: \")"
   ]
  },
  {
   "cell_type": "code",
   "execution_count": 9,
   "id": "100b07e2",
   "metadata": {
    "ExecuteTime": {
     "end_time": "2022-12-16T05:06:06.485561Z",
     "start_time": "2022-12-16T05:05:59.989640Z"
    }
   },
   "outputs": [
    {
     "name": "stdout",
     "output_type": "stream",
     "text": [
      "Current at:  52 Percentage at:  103.921568627451 % %\r"
     ]
    }
   ],
   "source": [
    "#We create a while loop to browse all jobs. \n",
    "numbers = int(numbers)\n",
    "i = 2\n",
    "while i <= int(numbers/2)+1:\n",
    "    #We keep scrollind down to the end of the view.\n",
    "    driver.execute_script(\"window.scrollTo(0, document.body.scrollHeight);\")\n",
    "    i = i + 1\n",
    "    print(\"Current at: \", i, \"Percentage at: \", ((i+1)/(int(numbers/2)+1))*100, \"%\",end=\"\\r\")\n",
    "    try:\n",
    "        #We try to click on the load more results buttons in case it is already displayed.\n",
    "        infinite_scroller_button = driver.find_element(By.XPATH, \".//button[@aria-label='Load more results']\")\n",
    "        infinite_scroller_button.click()\n",
    "        time.sleep(0.1)\n",
    "    except:\n",
    "        #If there is no button, there will be an error, so we keep scrolling down.\n",
    "        time.sleep(0.1)\n",
    "        pass"
   ]
  },
  {
   "cell_type": "code",
   "execution_count": 10,
   "id": "7aa33031",
   "metadata": {
    "ExecuteTime": {
     "end_time": "2022-12-16T05:06:12.561644Z",
     "start_time": "2022-12-16T05:06:10.273454Z"
    }
   },
   "outputs": [
    {
     "data": {
      "text/html": [
       "<div>\n",
       "<style scoped>\n",
       "    .dataframe tbody tr th:only-of-type {\n",
       "        vertical-align: middle;\n",
       "    }\n",
       "\n",
       "    .dataframe tbody tr th {\n",
       "        vertical-align: top;\n",
       "    }\n",
       "\n",
       "    .dataframe thead th {\n",
       "        text-align: right;\n",
       "    }\n",
       "</style>\n",
       "<table border=\"1\" class=\"dataframe\">\n",
       "  <thead>\n",
       "    <tr style=\"text-align: right;\">\n",
       "      <th></th>\n",
       "      <th>Job Title</th>\n",
       "      <th>Company</th>\n",
       "      <th>Location</th>\n",
       "      <th>Date</th>\n",
       "      <th>Link</th>\n",
       "    </tr>\n",
       "  </thead>\n",
       "  <tbody>\n",
       "    <tr>\n",
       "      <th>0</th>\n",
       "      <td>Data Scientist (Deep Learning), Peacock</td>\n",
       "      <td>Peacock</td>\n",
       "      <td>美國 紐約州 紐約</td>\n",
       "      <td>2022-12-06</td>\n",
       "      <td>https://www.linkedin.com/jobs/view/data-scient...</td>\n",
       "    </tr>\n",
       "    <tr>\n",
       "      <th>1</th>\n",
       "      <td>Data Scientist</td>\n",
       "      <td>Amicus</td>\n",
       "      <td>美國 紐約州 紐約</td>\n",
       "      <td>2022-12-06</td>\n",
       "      <td>https://www.linkedin.com/jobs/view/data-scient...</td>\n",
       "    </tr>\n",
       "    <tr>\n",
       "      <th>2</th>\n",
       "      <td>Data Scientist</td>\n",
       "      <td>Catalist</td>\n",
       "      <td>美國 哥倫比亞特區 華盛頓特區</td>\n",
       "      <td>2022-12-06</td>\n",
       "      <td>https://www.linkedin.com/jobs/view/data-scient...</td>\n",
       "    </tr>\n",
       "    <tr>\n",
       "      <th>3</th>\n",
       "      <td>Data Scientist</td>\n",
       "      <td>Farmer's Fridge</td>\n",
       "      <td>美國 伊利諾州 芝加哥</td>\n",
       "      <td>2022-12-15</td>\n",
       "      <td>https://www.linkedin.com/jobs/view/data-scient...</td>\n",
       "    </tr>\n",
       "    <tr>\n",
       "      <th>4</th>\n",
       "      <td>Jr. Data Scientist</td>\n",
       "      <td>UMortgage</td>\n",
       "      <td>費城地區</td>\n",
       "      <td>2022-12-09</td>\n",
       "      <td>https://www.linkedin.com/jobs/view/jr-data-sci...</td>\n",
       "    </tr>\n",
       "    <tr>\n",
       "      <th>5</th>\n",
       "      <td>Data Scientist, Jr.</td>\n",
       "      <td>Altamira Technologies Corporation</td>\n",
       "      <td>美國 佛羅里達州 Hurlburt Field</td>\n",
       "      <td>2022-12-14</td>\n",
       "      <td>https://www.linkedin.com/jobs/view/data-scient...</td>\n",
       "    </tr>\n",
       "    <tr>\n",
       "      <th>6</th>\n",
       "      <td>Data Scientist Full Time</td>\n",
       "      <td>Bardess Group Ltd</td>\n",
       "      <td>美國 紐約州 紐約</td>\n",
       "      <td>2022-12-06</td>\n",
       "      <td>https://www.linkedin.com/jobs/view/data-scient...</td>\n",
       "    </tr>\n",
       "    <tr>\n",
       "      <th>7</th>\n",
       "      <td>Data Scientist - Marketing Analytics</td>\n",
       "      <td>Spotify</td>\n",
       "      <td>美國 紐約州 紐約</td>\n",
       "      <td>2022-12-08</td>\n",
       "      <td>https://www.linkedin.com/jobs/view/data-scient...</td>\n",
       "    </tr>\n",
       "    <tr>\n",
       "      <th>8</th>\n",
       "      <td>Junior Data Scientist</td>\n",
       "      <td>Dezign Concepts</td>\n",
       "      <td>美國 維吉尼亞州 McLean</td>\n",
       "      <td>2022-12-12</td>\n",
       "      <td>https://www.linkedin.com/jobs/view/junior-data...</td>\n",
       "    </tr>\n",
       "    <tr>\n",
       "      <th>9</th>\n",
       "      <td>Data Scientist, Jr.</td>\n",
       "      <td>Altamira Technologies Corporation</td>\n",
       "      <td>美國 北卡羅來納州 Fort Bragg</td>\n",
       "      <td>2022-12-14</td>\n",
       "      <td>https://www.linkedin.com/jobs/view/data-scient...</td>\n",
       "    </tr>\n",
       "    <tr>\n",
       "      <th>10</th>\n",
       "      <td>Data Scientist, Product Analytics</td>\n",
       "      <td>Etsy</td>\n",
       "      <td>美國 紐約州 布魯克林</td>\n",
       "      <td>2022-12-14</td>\n",
       "      <td>https://www.linkedin.com/jobs/view/data-scient...</td>\n",
       "    </tr>\n",
       "    <tr>\n",
       "      <th>11</th>\n",
       "      <td>Data Scientist</td>\n",
       "      <td>沃爾瑪</td>\n",
       "      <td>美國 加利福尼亞州 森尼韋爾</td>\n",
       "      <td>2022-12-15</td>\n",
       "      <td>https://www.linkedin.com/jobs/view/data-scient...</td>\n",
       "    </tr>\n",
       "    <tr>\n",
       "      <th>12</th>\n",
       "      <td>Data Scientist - hybrid</td>\n",
       "      <td>Revel IT</td>\n",
       "      <td>紐約地區</td>\n",
       "      <td>2022-12-13</td>\n",
       "      <td>https://www.linkedin.com/jobs/view/data-scient...</td>\n",
       "    </tr>\n",
       "    <tr>\n",
       "      <th>13</th>\n",
       "      <td>Data Scientist, Jr.</td>\n",
       "      <td>Altamira Technologies Corporation</td>\n",
       "      <td>美國 維吉尼亞州 Springfield</td>\n",
       "      <td>2022-12-15</td>\n",
       "      <td>https://www.linkedin.com/jobs/view/data-scient...</td>\n",
       "    </tr>\n",
       "    <tr>\n",
       "      <th>14</th>\n",
       "      <td>Machine Learning Engineer</td>\n",
       "      <td>Shtudy</td>\n",
       "      <td>美國 哥倫比亞特區 華盛頓特區</td>\n",
       "      <td>2022-12-08</td>\n",
       "      <td>https://www.linkedin.com/jobs/view/machine-lea...</td>\n",
       "    </tr>\n",
       "    <tr>\n",
       "      <th>15</th>\n",
       "      <td>Data Scientist Machine Learning</td>\n",
       "      <td>duvari</td>\n",
       "      <td>美國 密蘇里州 赤斯特菲</td>\n",
       "      <td>2022-12-08</td>\n",
       "      <td>https://www.linkedin.com/jobs/view/data-scient...</td>\n",
       "    </tr>\n",
       "    <tr>\n",
       "      <th>16</th>\n",
       "      <td>Data Scientist, Jr</td>\n",
       "      <td>Altamira Technologies Corporation</td>\n",
       "      <td>美國 維吉尼亞州 Crystal City</td>\n",
       "      <td>2022-12-15</td>\n",
       "      <td>https://www.linkedin.com/jobs/view/data-scient...</td>\n",
       "    </tr>\n",
       "    <tr>\n",
       "      <th>17</th>\n",
       "      <td>Machine Learning Engineer</td>\n",
       "      <td>Neural Magic</td>\n",
       "      <td>美國 麻塞諸塞州 索麥維</td>\n",
       "      <td>2022-11-21</td>\n",
       "      <td>https://www.linkedin.com/jobs/view/machine-lea...</td>\n",
       "    </tr>\n",
       "    <tr>\n",
       "      <th>18</th>\n",
       "      <td>Data Scientist, Jr.</td>\n",
       "      <td>Altamira Technologies Corporation</td>\n",
       "      <td>美國 北卡羅來納州 Camp Lejeune</td>\n",
       "      <td>2022-12-12</td>\n",
       "      <td>https://www.linkedin.com/jobs/view/data-scient...</td>\n",
       "    </tr>\n",
       "    <tr>\n",
       "      <th>19</th>\n",
       "      <td>Data Scientist, Jr</td>\n",
       "      <td>Altamira Technologies Corporation</td>\n",
       "      <td>美國 維吉尼亞州 Belvoir</td>\n",
       "      <td>2022-12-15</td>\n",
       "      <td>https://www.linkedin.com/jobs/view/data-scient...</td>\n",
       "    </tr>\n",
       "    <tr>\n",
       "      <th>20</th>\n",
       "      <td>Data Scientist</td>\n",
       "      <td>Atrium</td>\n",
       "      <td>美國</td>\n",
       "      <td>2022-12-06</td>\n",
       "      <td>https://www.linkedin.com/jobs/view/data-scient...</td>\n",
       "    </tr>\n",
       "    <tr>\n",
       "      <th>21</th>\n",
       "      <td>Data Scientist</td>\n",
       "      <td>The Fresh Market</td>\n",
       "      <td>格林斯伯勒－溫斯頓－塞勒姆－海波恩特地區</td>\n",
       "      <td>2022-12-07</td>\n",
       "      <td>https://www.linkedin.com/jobs/view/data-scient...</td>\n",
       "    </tr>\n",
       "    <tr>\n",
       "      <th>22</th>\n",
       "      <td>Data Scientist</td>\n",
       "      <td>Dezign Concepts</td>\n",
       "      <td>美國 維吉尼亞州</td>\n",
       "      <td>2022-12-07</td>\n",
       "      <td>https://www.linkedin.com/jobs/view/data-scient...</td>\n",
       "    </tr>\n",
       "    <tr>\n",
       "      <th>23</th>\n",
       "      <td>Data Scientist</td>\n",
       "      <td>Grey Matters Defense Solutions, LLC</td>\n",
       "      <td>美國 科羅拉多州 奧洛拉</td>\n",
       "      <td>2022-12-09</td>\n",
       "      <td>https://www.linkedin.com/jobs/view/data-scient...</td>\n",
       "    </tr>\n",
       "    <tr>\n",
       "      <th>24</th>\n",
       "      <td>Data Scientists (Multiple Positions)</td>\n",
       "      <td>PayPal</td>\n",
       "      <td>美國 加利福尼亞州 聖荷西</td>\n",
       "      <td>2022-12-09</td>\n",
       "      <td>https://www.linkedin.com/jobs/view/data-scient...</td>\n",
       "    </tr>\n",
       "  </tbody>\n",
       "</table>\n",
       "</div>"
      ],
      "text/plain": [
       "                                  Job Title  \\\n",
       "0   Data Scientist (Deep Learning), Peacock   \n",
       "1                            Data Scientist   \n",
       "2                            Data Scientist   \n",
       "3                            Data Scientist   \n",
       "4                        Jr. Data Scientist   \n",
       "5                       Data Scientist, Jr.   \n",
       "6                  Data Scientist Full Time   \n",
       "7      Data Scientist - Marketing Analytics   \n",
       "8                     Junior Data Scientist   \n",
       "9                       Data Scientist, Jr.   \n",
       "10        Data Scientist, Product Analytics   \n",
       "11                           Data Scientist   \n",
       "12                  Data Scientist - hybrid   \n",
       "13                      Data Scientist, Jr.   \n",
       "14                Machine Learning Engineer   \n",
       "15          Data Scientist Machine Learning   \n",
       "16                       Data Scientist, Jr   \n",
       "17                Machine Learning Engineer   \n",
       "18                      Data Scientist, Jr.   \n",
       "19                       Data Scientist, Jr   \n",
       "20                           Data Scientist   \n",
       "21                           Data Scientist   \n",
       "22                           Data Scientist   \n",
       "23                           Data Scientist   \n",
       "24     Data Scientists (Multiple Positions)   \n",
       "\n",
       "                                Company                 Location        Date  \\\n",
       "0                               Peacock                美國 紐約州 紐約  2022-12-06   \n",
       "1                                Amicus                美國 紐約州 紐約  2022-12-06   \n",
       "2                              Catalist          美國 哥倫比亞特區 華盛頓特區  2022-12-06   \n",
       "3                       Farmer's Fridge              美國 伊利諾州 芝加哥  2022-12-15   \n",
       "4                             UMortgage                     費城地區  2022-12-09   \n",
       "5     Altamira Technologies Corporation  美國 佛羅里達州 Hurlburt Field  2022-12-14   \n",
       "6                     Bardess Group Ltd                美國 紐約州 紐約  2022-12-06   \n",
       "7                               Spotify                美國 紐約州 紐約  2022-12-08   \n",
       "8                       Dezign Concepts          美國 維吉尼亞州 McLean  2022-12-12   \n",
       "9     Altamira Technologies Corporation     美國 北卡羅來納州 Fort Bragg  2022-12-14   \n",
       "10                                 Etsy              美國 紐約州 布魯克林  2022-12-14   \n",
       "11                                  沃爾瑪           美國 加利福尼亞州 森尼韋爾  2022-12-15   \n",
       "12                             Revel IT                     紐約地區  2022-12-13   \n",
       "13    Altamira Technologies Corporation     美國 維吉尼亞州 Springfield  2022-12-15   \n",
       "14                               Shtudy          美國 哥倫比亞特區 華盛頓特區  2022-12-08   \n",
       "15                               duvari             美國 密蘇里州 赤斯特菲  2022-12-08   \n",
       "16    Altamira Technologies Corporation    美國 維吉尼亞州 Crystal City  2022-12-15   \n",
       "17                         Neural Magic             美國 麻塞諸塞州 索麥維  2022-11-21   \n",
       "18    Altamira Technologies Corporation   美國 北卡羅來納州 Camp Lejeune  2022-12-12   \n",
       "19    Altamira Technologies Corporation         美國 維吉尼亞州 Belvoir  2022-12-15   \n",
       "20                               Atrium                       美國  2022-12-06   \n",
       "21                     The Fresh Market     格林斯伯勒－溫斯頓－塞勒姆－海波恩特地區  2022-12-07   \n",
       "22                      Dezign Concepts                 美國 維吉尼亞州  2022-12-07   \n",
       "23  Grey Matters Defense Solutions, LLC             美國 科羅拉多州 奧洛拉  2022-12-09   \n",
       "24                               PayPal            美國 加利福尼亞州 聖荷西  2022-12-09   \n",
       "\n",
       "                                                 Link  \n",
       "0   https://www.linkedin.com/jobs/view/data-scient...  \n",
       "1   https://www.linkedin.com/jobs/view/data-scient...  \n",
       "2   https://www.linkedin.com/jobs/view/data-scient...  \n",
       "3   https://www.linkedin.com/jobs/view/data-scient...  \n",
       "4   https://www.linkedin.com/jobs/view/jr-data-sci...  \n",
       "5   https://www.linkedin.com/jobs/view/data-scient...  \n",
       "6   https://www.linkedin.com/jobs/view/data-scient...  \n",
       "7   https://www.linkedin.com/jobs/view/data-scient...  \n",
       "8   https://www.linkedin.com/jobs/view/junior-data...  \n",
       "9   https://www.linkedin.com/jobs/view/data-scient...  \n",
       "10  https://www.linkedin.com/jobs/view/data-scient...  \n",
       "11  https://www.linkedin.com/jobs/view/data-scient...  \n",
       "12  https://www.linkedin.com/jobs/view/data-scient...  \n",
       "13  https://www.linkedin.com/jobs/view/data-scient...  \n",
       "14  https://www.linkedin.com/jobs/view/machine-lea...  \n",
       "15  https://www.linkedin.com/jobs/view/data-scient...  \n",
       "16  https://www.linkedin.com/jobs/view/data-scient...  \n",
       "17  https://www.linkedin.com/jobs/view/machine-lea...  \n",
       "18  https://www.linkedin.com/jobs/view/data-scient...  \n",
       "19  https://www.linkedin.com/jobs/view/data-scient...  \n",
       "20  https://www.linkedin.com/jobs/view/data-scient...  \n",
       "21  https://www.linkedin.com/jobs/view/data-scient...  \n",
       "22  https://www.linkedin.com/jobs/view/data-scient...  \n",
       "23  https://www.linkedin.com/jobs/view/data-scient...  \n",
       "24  https://www.linkedin.com/jobs/view/data-scient...  "
      ]
     },
     "execution_count": 10,
     "metadata": {},
     "output_type": "execute_result"
    }
   ],
   "source": [
    "#We get a list containing all jobs that we have found.\n",
    "job_lists = driver.find_element(By.CLASS_NAME,\"jobs-search__results-list\")\n",
    "jobs = job_lists.find_elements(By.TAG_NAME,\"li\") # return a list\n",
    "\n",
    "#We declare void list to keep track of all obtaind data.\n",
    "job_title_list = []\n",
    "company_name_list = []\n",
    "location_list = []\n",
    "date_list = []\n",
    "job_link_list = []\n",
    "\n",
    "#We loof over every job and obtain all the wanted info.\n",
    "for job in jobs:\n",
    "    #job_title\n",
    "    job_title = job.find_element(By.CSS_SELECTOR,\"h3\").get_attribute(\"innerText\")\n",
    "    job_title_list.append(job_title)\n",
    "    \n",
    "    #company_name\n",
    "    company_name = job.find_element(By.CSS_SELECTOR,\"h4\").get_attribute(\"innerText\")\n",
    "    company_name_list.append(company_name)\n",
    "    \n",
    "    #location\n",
    "    location = job.find_element(By.CSS_SELECTOR,\"div>div>span\").get_attribute(\"innerText\")\n",
    "    location_list.append(location)\n",
    "    \n",
    "    #date\n",
    "    date = job.find_element(By.CSS_SELECTOR,\"div>div>time\").get_attribute(\"datetime\")\n",
    "    date_list.append(date)\n",
    "    \n",
    "    #job_link\n",
    "    job_link = job.find_element(By.CSS_SELECTOR,\"a\").get_attribute(\"href\")\n",
    "    job_link_list.append(job_link)\n",
    "\n",
    "jobs_df = pd.DataFrame({'Job Title': job_title_list,\n",
    "              'Company': company_name_list,\n",
    "              'Location': location_list,\n",
    "              'Date': date_list,\n",
    "              'Link': job_link_list\n",
    "            })\n",
    "jobs_df"
   ]
  },
  {
   "cell_type": "code",
   "execution_count": null,
   "id": "82f6ee74",
   "metadata": {},
   "outputs": [],
   "source": []
  }
 ],
 "metadata": {
  "kernelspec": {
   "display_name": "Python 3 (ipykernel)",
   "language": "python",
   "name": "python3"
  },
  "language_info": {
   "codemirror_mode": {
    "name": "ipython",
    "version": 3
   },
   "file_extension": ".py",
   "mimetype": "text/x-python",
   "name": "python",
   "nbconvert_exporter": "python",
   "pygments_lexer": "ipython3",
   "version": "3.9.12"
  },
  "nbTranslate": {
   "displayLangs": [
    "*"
   ],
   "hotkey": "alt-t",
   "langInMainMenu": true,
   "sourceLang": "en",
   "targetLang": "fr",
   "useGoogleTranslate": true
  },
  "toc": {
   "base_numbering": 1,
   "nav_menu": {},
   "number_sections": true,
   "sideBar": true,
   "skip_h1_title": false,
   "title_cell": "Table of Contents",
   "title_sidebar": "Contents",
   "toc_cell": false,
   "toc_position": {},
   "toc_section_display": true,
   "toc_window_display": false
  },
  "varInspector": {
   "cols": {
    "lenName": 16,
    "lenType": 16,
    "lenVar": 40
   },
   "kernels_config": {
    "python": {
     "delete_cmd_postfix": "",
     "delete_cmd_prefix": "del ",
     "library": "var_list.py",
     "varRefreshCmd": "print(var_dic_list())"
    },
    "r": {
     "delete_cmd_postfix": ") ",
     "delete_cmd_prefix": "rm(",
     "library": "var_list.r",
     "varRefreshCmd": "cat(var_dic_list()) "
    }
   },
   "types_to_exclude": [
    "module",
    "function",
    "builtin_function_or_method",
    "instance",
    "_Feature"
   ],
   "window_display": false
  }
 },
 "nbformat": 4,
 "nbformat_minor": 5
}
